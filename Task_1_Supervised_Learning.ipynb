{
 "cells": [
  {
   "cell_type": "markdown",
   "id": "4977a7d5-edb0-4322-a16a-72b5a48bd3c4",
   "metadata": {},
   "source": [
    "# Task 1: Prediction using supervised ML\n",
    "* ### Predict the percentage of students scores based on number of study hours\n",
    "- #### Author: Apurv P Chudasama\n",
    "- #### Data Science and Business Analytics Intern\n",
    "- #### GRIP @The Sparks Foundation"
   ]
  },
  {
   "cell_type": "markdown",
   "id": "a2849e03-8dba-4e96-872d-2fecac1e0d43",
   "metadata": {},
   "source": [
    "## 1.Data Importing:"
   ]
  },
  {
   "cell_type": "code",
   "execution_count": 114,
   "id": "0d442e10-828c-418e-9852-d39b0a1d4b03",
   "metadata": {},
   "outputs": [],
   "source": [
    "#Import Library\n",
    "import pandas as pd\n",
    "import numpy as np\n",
    "from sklearn import linear_model \n",
    "import matplotlib.pyplot as plt  \n",
    "%matplotlib inline"
   ]
  },
  {
   "cell_type": "code",
   "execution_count": 115,
   "id": "19505eef-aa5b-41f5-9f8b-ac384a139daa",
   "metadata": {},
   "outputs": [
    {
     "name": "stdout",
     "output_type": "stream",
     "text": [
      "Data imported successfully\n"
     ]
    }
   ],
   "source": [
    "#importing data set\n",
    "#url of data set: \"http://bit.ly/w-data\" \n",
    "data = pd.read_csv(\"E:\\Intenship\\Task1.csv\")\n",
    "print(\"Data imported successfully\")"
   ]
  },
  {
   "cell_type": "code",
   "execution_count": 116,
   "id": "6a6609b4-2f75-4810-9587-5b7a593e1464",
   "metadata": {},
   "outputs": [
    {
     "data": {
      "text/html": [
       "<div>\n",
       "<style scoped>\n",
       "    .dataframe tbody tr th:only-of-type {\n",
       "        vertical-align: middle;\n",
       "    }\n",
       "\n",
       "    .dataframe tbody tr th {\n",
       "        vertical-align: top;\n",
       "    }\n",
       "\n",
       "    .dataframe thead th {\n",
       "        text-align: right;\n",
       "    }\n",
       "</style>\n",
       "<table border=\"1\" class=\"dataframe\">\n",
       "  <thead>\n",
       "    <tr style=\"text-align: right;\">\n",
       "      <th></th>\n",
       "      <th>Hours</th>\n",
       "      <th>Scores</th>\n",
       "    </tr>\n",
       "  </thead>\n",
       "  <tbody>\n",
       "    <tr>\n",
       "      <th>0</th>\n",
       "      <td>2.5</td>\n",
       "      <td>21</td>\n",
       "    </tr>\n",
       "    <tr>\n",
       "      <th>1</th>\n",
       "      <td>5.1</td>\n",
       "      <td>47</td>\n",
       "    </tr>\n",
       "    <tr>\n",
       "      <th>2</th>\n",
       "      <td>3.2</td>\n",
       "      <td>27</td>\n",
       "    </tr>\n",
       "    <tr>\n",
       "      <th>3</th>\n",
       "      <td>8.5</td>\n",
       "      <td>75</td>\n",
       "    </tr>\n",
       "    <tr>\n",
       "      <th>4</th>\n",
       "      <td>3.5</td>\n",
       "      <td>30</td>\n",
       "    </tr>\n",
       "  </tbody>\n",
       "</table>\n",
       "</div>"
      ],
      "text/plain": [
       "   Hours  Scores\n",
       "0    2.5      21\n",
       "1    5.1      47\n",
       "2    3.2      27\n",
       "3    8.5      75\n",
       "4    3.5      30"
      ]
     },
     "execution_count": 116,
     "metadata": {},
     "output_type": "execute_result"
    }
   ],
   "source": [
    "#Display first 5 rows of the data set\n",
    "data.head(5)"
   ]
  },
  {
   "cell_type": "markdown",
   "id": "418ed8e5-c931-4729-948f-10a2771ec9cc",
   "metadata": {},
   "source": [
    "## 2.Data Visualization: ."
   ]
  },
  {
   "cell_type": "code",
   "execution_count": 117,
   "id": "ed57d58c-5a44-48e4-bd49-e0b43492b408",
   "metadata": {},
   "outputs": [
    {
     "data": {
      "image/png": "[encoded data removed]",
      "text/plain": [
       "<Figure size 640x480 with 1 Axes>"
      ]
     },
     "metadata": {},
     "output_type": "display_data"
    }
   ],
   "source": [
    "# Plot the data in a 2d graph to see whether there is a relation between the data.\n",
    "data.plot(x='Hours', y='Scores', style='ok',mec = 'r')  \n",
    "plt.title('Hours v/s Percentage')  \n",
    "plt.xlabel('Hours of Studied')  \n",
    "plt.ylabel('Score in Percentage')  \n",
    "plt.show()"
   ]
  },
  {
   "cell_type": "markdown",
   "id": "885fa4e8-810c-4237-96e4-5f843dfa7395",
   "metadata": {},
   "source": [
    "#### Observation: There is a positive linear relation between hours studied and percentage score.|)*"
   ]
  },
  {
   "cell_type": "code",
   "execution_count": 118,
   "id": "2ebbfe2e-4217-4ab8-8cc5-c1d40c8107b8",
   "metadata": {},
   "outputs": [],
   "source": [
    "#Split the data into inputs(attributes) and outputs(labels)\n",
    "X = data.drop([\"Scores\"] , axis = 1)\n",
    "y = data[\"Scores\"]"
   ]
  },
  {
   "cell_type": "markdown",
   "id": "861811c8-93bc-44bc-87b4-907627907b6b",
   "metadata": {},
   "source": [
    "## 3.Splitting data into train and test sets: "
   ]
  },
  {
   "cell_type": "code",
   "execution_count": 119,
   "id": "95a0e802-c316-4671-9268-75e7726e5889",
   "metadata": {},
   "outputs": [],
   "source": [
    "from sklearn.model_selection import train_test_split   \n",
    "X_train , X_test , y_train , y_test = train_test_split(X , y , test_size = 0.2 , random_state = 0)"
   ]
  },
  {
   "cell_type": "markdown",
   "id": "b4429509-ab8b-4e51-bbfb-114a372040fc",
   "metadata": {},
   "source": [
    "## 4.Training Algorithm(Data Modelling): "
   ]
  },
  {
   "cell_type": "code",
   "execution_count": 120,
   "id": "902470ad-598b-4037-9be9-4fc65daea33d",
   "metadata": {},
   "outputs": [
    {
     "name": "stdout",
     "output_type": "stream",
     "text": [
      "Training completed\n"
     ]
    }
   ],
   "source": [
    "from sklearn.linear_model import LinearRegression         \n",
    "model = LinearRegression()\n",
    "model.fit(X_train , y_train)\n",
    "print(\"Training completed\")"
   ]
  },
  {
   "cell_type": "code",
   "execution_count": 121,
   "id": "e7ca2018-a37f-49fd-9ae7-4a5309250de6",
   "metadata": {},
   "outputs": [
    {
     "name": "stdout",
     "output_type": "stream",
     "text": [
      "[9.91065648] 2.0181600414346974\n"
     ]
    }
   ],
   "source": [
    "print(model.coef_,model.intercept_)"
   ]
  },
  {
   "cell_type": "code",
   "execution_count": 122,
   "id": "acc3fd23-db10-4ffc-b823-149bd82d82a7",
   "metadata": {},
   "outputs": [
    {
     "data": {
      "image/png": "[encoded data removed]",
      "text/plain": [
       "<Figure size 640x480 with 1 Axes>"
      ]
     },
     "metadata": {},
     "output_type": "display_data"
    }
   ],
   "source": [
    "line = model.coef_ * (X) + model.intercept_\n",
    "plt.title(\"Linear regression vs trained model\")\n",
    "plt.scatter(X,y,color='black')\n",
    "plt.xlabel('Studied Hours ')\n",
    "plt.ylabel('Score in Percentage ')\n",
    "plt.plot(X,line, color = \"blue\",mec = 'y')\n",
    "plt.show()"
   ]
  },
  {
   "cell_type": "code",
   "execution_count": 123,
   "id": "d313c870-6626-4b4e-b7b9-4f45a8cb60b2",
   "metadata": {},
   "outputs": [
    {
     "name": "stdout",
     "output_type": "stream",
     "text": [
      "    Hours\n",
      "5     1.5\n",
      "2     3.2\n",
      "19    7.4\n",
      "16    2.5\n",
      "11    5.9\n"
     ]
    }
   ],
   "source": [
    "print(X_test)\n",
    "y_pred = model.predict(X_test)"
   ]
  },
  {
   "cell_type": "code",
   "execution_count": 124,
   "id": "4934c04c-f2e9-40d4-8dee-529a25d87d42",
   "metadata": {},
   "outputs": [
    {
     "data": {
      "text/html": [
       "<div>\n",
       "<style scoped>\n",
       "    .dataframe tbody tr th:only-of-type {\n",
       "        vertical-align: middle;\n",
       "    }\n",
       "\n",
       "    .dataframe tbody tr th {\n",
       "        vertical-align: top;\n",
       "    }\n",
       "\n",
       "    .dataframe thead th {\n",
       "        text-align: right;\n",
       "    }\n",
       "</style>\n",
       "<table border=\"1\" class=\"dataframe\">\n",
       "  <thead>\n",
       "    <tr style=\"text-align: right;\">\n",
       "      <th></th>\n",
       "      <th>Actual value</th>\n",
       "      <th>Predicted value</th>\n",
       "    </tr>\n",
       "  </thead>\n",
       "  <tbody>\n",
       "    <tr>\n",
       "      <th>5</th>\n",
       "      <td>20</td>\n",
       "      <td>16.884145</td>\n",
       "    </tr>\n",
       "    <tr>\n",
       "      <th>2</th>\n",
       "      <td>27</td>\n",
       "      <td>33.732261</td>\n",
       "    </tr>\n",
       "    <tr>\n",
       "      <th>19</th>\n",
       "      <td>69</td>\n",
       "      <td>75.357018</td>\n",
       "    </tr>\n",
       "    <tr>\n",
       "      <th>16</th>\n",
       "      <td>30</td>\n",
       "      <td>26.794801</td>\n",
       "    </tr>\n",
       "    <tr>\n",
       "      <th>11</th>\n",
       "      <td>62</td>\n",
       "      <td>60.491033</td>\n",
       "    </tr>\n",
       "  </tbody>\n",
       "</table>\n",
       "</div>"
      ],
      "text/plain": [
       "    Actual value  Predicted value\n",
       "5             20        16.884145\n",
       "2             27        33.732261\n",
       "19            69        75.357018\n",
       "16            30        26.794801\n",
       "11            62        60.491033"
      ]
     },
     "execution_count": 124,
     "metadata": {},
     "output_type": "execute_result"
    }
   ],
   "source": [
    "# Comparing the actual value to the predicted value\n",
    "df = pd.DataFrame({'Actual value':y_test, 'Predicted value':y_pred})\n",
    "df"
   ]
  },
  {
   "cell_type": "code",
   "execution_count": 125,
   "id": "3f355611-5c27-4a64-a30c-57d2b224418f",
   "metadata": {},
   "outputs": [
    {
     "name": "stdout",
     "output_type": "stream",
     "text": [
      "Training Score in Percentage:  95.15510725211553\n",
      "Testing Score in Percentage:  94.54906892105355\n"
     ]
    }
   ],
   "source": [
    "#check the accuracy scores for training and test set\n",
    "print(\"Training Score in Percentage: \",(model.score(X_train,y_train)*100))\n",
    "print(\"Testing Score in Percentage: \",(model.score(X_test,y_test)*100))"
   ]
  },
  {
   "cell_type": "code",
   "execution_count": 131,
   "id": "7d84e52b-ee15-465f-ba00-a44c034a3cac",
   "metadata": {},
   "outputs": [
    {
     "data": {
      "image/png": "[encoded data removed]",
      "text/plain": [
       "<Figure size 500x500 with 1 Axes>"
      ]
     },
     "metadata": {},
     "output_type": "display_data"
    }
   ],
   "source": [
    "df.plot(kind='bar',figsize=(5,5),color=('orange','red'))\n",
    "plt.show()"
   ]
  },
  {
   "cell_type": "markdown",
   "id": "503d5061-695f-4bff-b4a7-57b46207551f",
   "metadata": {},
   "source": [
    "## 5.Predicting Scores for 9.25 hours of study: "
   ]
  },
  {
   "cell_type": "code",
   "execution_count": 133,
   "id": "e1b85bf7-11cd-46de-9955-f26889686488",
   "metadata": {},
   "outputs": [
    {
     "name": "stdout",
     "output_type": "stream",
     "text": [
      "Number of hours = 9.25\n",
      "Predicted Score = 96.16939660753592\n"
     ]
    },
    {
     "name": "stderr",
     "output_type": "stream",
     "text": [
      "C:\\Users\\HP EG1001TU\\AppData\\Roaming\\Python\\Python311\\site-packages\\sklearn\\base.py:464: UserWarning: X does not have valid feature names, but LinearRegression was fitted with feature names\n",
      "  warnings.warn(\n"
     ]
    }
   ],
   "source": [
    "hours = 9.25\n",
    "test = np.array([hours])\n",
    "test = test.reshape(-1,1)\n",
    "pred = model.predict([[9.5]])\n",
    "print(\"Number of hours = {}\".format(hours))\n",
    "print(\"Predicted Score = {}\".format(pred[0]))"
   ]
  },
  {
   "cell_type": "code",
   "execution_count": 134,
   "id": "7887d596-0641-4820-9862-625aaff94e93",
   "metadata": {},
   "outputs": [
    {
     "data": {
      "text/plain": [
       "5     20\n",
       "2     27\n",
       "19    69\n",
       "16    30\n",
       "11    62\n",
       "Name: Scores, dtype: int64"
      ]
     },
     "execution_count": 134,
     "metadata": {},
     "output_type": "execute_result"
    }
   ],
   "source": [
    "y_test"
   ]
  },
  {
   "cell_type": "code",
   "execution_count": 135,
   "id": "1a0fd1ad-4299-47a8-8a3b-486f2cc66f31",
   "metadata": {},
   "outputs": [
    {
     "data": {
      "text/plain": [
       "array([16.88414476, 33.73226078, 75.357018  , 26.79480124, 60.49103328])"
      ]
     },
     "execution_count": 135,
     "metadata": {},
     "output_type": "execute_result"
    }
   ],
   "source": [
    "y_pred"
   ]
  },
  {
   "cell_type": "markdown",
   "id": "3beab70d-bda9-498b-b825-e868c2f5d949",
   "metadata": {},
   "source": [
    "## 6.Model Evaluation Metrics"
   ]
  },
  {
   "cell_type": "code",
   "execution_count": 136,
   "id": "ddb5cb76-9886-4687-9768-696edab3a0f2",
   "metadata": {},
   "outputs": [
    {
     "name": "stdout",
     "output_type": "stream",
     "text": [
      "Mean Squred Error: 21.598769307217406\n",
      "Mean absolute Error: 4.183859899002975\n"
     ]
    }
   ],
   "source": [
    "from sklearn.metrics import r2_score\n",
    "from sklearn.metrics import mean_squared_error\n",
    "from sklearn.metrics import mean_absolute_error\n",
    "\n",
    "#Checking the efficiency of model\n",
    "mean_squ_error = mean_squared_error(y_test, y_pred[:5])\n",
    "mean_abs_error = mean_absolute_error(y_test, y_pred[:5])\n",
    "print(\"Mean Squred Error:\",mean_squ_error)\n",
    "print(\"Mean absolute Error:\",mean_abs_error)"
   ]
  },
  {
   "cell_type": "markdown",
   "id": "23a93042-c833-47cb-9196-a0b4a83ab52d",
   "metadata": {},
   "source": [
    "- Training Score in Percentage:  95.15510725211553\n",
    "- \n",
    "Testing Score in Percentage:  94.5490689210535\n",
    "- Mean Squred Error: 21.598769307217406\n",
    "- \n",
    "Mean absolute Error: 4.18385989900297\n",
    "- Number of hours = 9.25 \n",
    "Predicted Score = 96.1693966075359255"
   ]
  },
  {
   "cell_type": "code",
   "execution_count": null,
   "id": "3c7d0b39-2b4b-4fe7-a383-e3c5af55a203",
   "metadata": {},
   "outputs": [],
   "source": []
  }
 ],
 "metadata": {
  "kernelspec": {
   "display_name": "Python 3 (ipykernel)",
   "language": "python",
   "name": "python3"
  },
  "language_info": {
   "codemirror_mode": {
    "name": "ipython",
    "version": 3
   },
   "file_extension": ".py",
   "mimetype": "text/x-python",
   "name": "python",
   "nbconvert_exporter": "python",
   "pygments_lexer": "ipython3",
   "version": "3.11.4"
  }
 },
 "nbformat": 4,
 "nbformat_minor": 5
}
